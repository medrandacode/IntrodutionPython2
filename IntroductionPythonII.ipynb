{
  "nbformat": 4,
  "nbformat_minor": 0,
  "metadata": {
    "colab": {
      "name": "IntroductionPythonII.ipynb",
      "provenance": [],
      "authorship_tag": "ABX9TyMbelQd0bOoXl56cQZ8iSco",
      "include_colab_link": true
    },
    "kernelspec": {
      "name": "python3",
      "display_name": "Python 3"
    }
  },
  "cells": [
    {
      "cell_type": "markdown",
      "metadata": {
        "id": "view-in-github",
        "colab_type": "text"
      },
      "source": [
        "<a href=\"https://colab.research.google.com/github/medrandacode/IntrodutionPython2/blob/main/IntroductionPythonII.ipynb\" target=\"_parent\"><img src=\"https://colab.research.google.com/assets/colab-badge.svg\" alt=\"Open In Colab\"/></a>"
      ]
    },
    {
      "cell_type": "markdown",
      "metadata": {
        "id": "urrh_vPD4jkP"
      },
      "source": [
        "# **PYTHON PARA PRINCIPIANTES - PARTE II**"
      ]
    },
    {
      "cell_type": "markdown",
      "metadata": {
        "id": "NRo__VFg5EJi"
      },
      "source": [
        "Condiciones multiples\n"
      ]
    },
    {
      "cell_type": "code",
      "metadata": {
        "id": "y9ev8o8ZCvf6",
        "outputId": "de70160b-6bb9-4635-f41b-bfa7f523e4d9",
        "colab": {
          "base_uri": "https://localhost:8080/"
        }
      },
      "source": [
        "a=10 #*\n",
        "b= 12#*\n",
        "c=4 #*\n",
        "#Sacar cual es el mayor entre a,b,c\n",
        "if a > b:  # if a > b and a> c:\n",
        "  if a> c:\n",
        "    print('Mayor es A', a)\n",
        "elif b>a:\n",
        "  if b > c:\n",
        "    print('Mayor es B', b)\n",
        "elif c> a:\n",
        "  if c> b:\n",
        "    print('Mayor es C')\n",
        "else:\n",
        "  print('No hay mayor')\n",
        "\n",
        "\n",
        "\n",
        "#switch case - opciones -> java, c# : Python condiciones multiples \n",
        "\n",
        "  "
      ],
      "execution_count": null,
      "outputs": [
        {
          "output_type": "stream",
          "text": [
            "Mayor es B 12\n"
          ],
          "name": "stdout"
        }
      ]
    },
    {
      "cell_type": "markdown",
      "metadata": {
        "id": "fadd7OVA3Qjh"
      },
      "source": [
        "### Input"
      ]
    },
    {
      "cell_type": "code",
      "metadata": {
        "id": "4KSo68Lv3TRX",
        "outputId": "ce6a524f-e3ed-4146-bb97-e5f9e1cc9e49",
        "colab": {
          "base_uri": "https://localhost:8080/"
        }
      },
      "source": [
        "va1=int(input('Ingrese valor1: '))\n",
        "va2=int(input('Ingrese valor2: '))\n",
        "suma= va1+va2# '10' + '5'\n",
        "print(suma)"
      ],
      "execution_count": null,
      "outputs": [
        {
          "output_type": "stream",
          "text": [
            "Ingrese valor1: 10\n",
            "Ingrese valor2: 30\n",
            "40\n"
          ],
          "name": "stdout"
        }
      ]
    },
    {
      "cell_type": "markdown",
      "metadata": {
        "id": "PoCzywQq60jf"
      },
      "source": [
        "**Operedores Lógicos** <br>\n",
        "\n",
        "***Y = and ***; True + True : True caso contrario es False; Medranda tiene que compra cebollas **y** María comprar tomates : Compra exitosa ; no realiza la compra."
      ]
    },
    {
      "cell_type": "code",
      "metadata": {
        "id": "8dD3P-Y57wOD",
        "outputId": "a5a3916c-55a8-4afe-9585-242666fb750d",
        "colab": {
          "base_uri": "https://localhost:8080/"
        }
      },
      "source": [
        "Medranda= True \n",
        "María = True\n",
        "\n",
        "if Medranda and María :\n",
        "  print('Compra exitosa')\n",
        "else:\n",
        "  print('No hubo compra' )\n",
        "\n"
      ],
      "execution_count": null,
      "outputs": [
        {
          "output_type": "stream",
          "text": [
            "Compra exitosa\n"
          ],
          "name": "stdout"
        }
      ]
    },
    {
      "cell_type": "markdown",
      "metadata": {
        "id": "T8F8a0cm8-cr"
      },
      "source": [
        "***O = or*** ; False + False = False caso contrario es verdadero; Medranda tiene que tener CI o Pasaporte para viajar."
      ]
    },
    {
      "cell_type": "code",
      "metadata": {
        "id": "Mad6SCrk9aPo",
        "outputId": "93ed9b84-6dfa-4cf8-d174-d59eb8852a0d",
        "colab": {
          "base_uri": "https://localhost:8080/"
        }
      },
      "source": [
        "CI= False\n",
        "Pasaporte = False\n",
        "if CI or Pasaporte:\n",
        "  print('Yo viajaré')\n",
        "else:\n",
        "  print('No viajaré' )\n"
      ],
      "execution_count": null,
      "outputs": [
        {
          "output_type": "stream",
          "text": [
            "No viajaré\n"
          ],
          "name": "stdout"
        }
      ]
    },
    {
      "cell_type": "markdown",
      "metadata": {
        "id": "Z7BR1q2a_M8n"
      },
      "source": [
        "***negar= Not*** True = False   Medranda tiene muchos seguidores=Medranda no tiene muchos seguidores "
      ]
    },
    {
      "cell_type": "code",
      "metadata": {
        "id": "hCOEXqRf_nfA",
        "outputId": "6fce4bc9-c51a-4636-94a9-56c62acd2261",
        "colab": {
          "base_uri": "https://localhost:8080/"
        }
      },
      "source": [
        "Medranda= True #Tiene seguidores\n",
        "if not Medranda:\n",
        "  print('Tiene')\n",
        "else:\n",
        "  print('No tiene Seguidores' )"
      ],
      "execution_count": null,
      "outputs": [
        {
          "output_type": "stream",
          "text": [
            "No tiene Seguidores\n"
          ],
          "name": "stdout"
        }
      ]
    },
    {
      "cell_type": "markdown",
      "metadata": {
        "id": "MSskrgoQn3Fy"
      },
      "source": [
        "**## Ejercicios de condiciones**"
      ]
    },
    {
      "cell_type": "markdown",
      "metadata": {
        "id": "wVsrt8UinnJ1"
      },
      "source": [
        "**1.** Diseñe un algoritmo que determine si ún número es o no es, par positivo."
      ]
    },
    {
      "cell_type": "markdown",
      "metadata": {
        "id": "8WzCGOeunrWR"
      },
      "source": [
        "**2.** Un comerciante compra un artículo a un costo dado. Determine el precio al cual debe venderlo si desea ganar el 15%."
      ]
    },
    {
      "cell_type": "markdown",
      "metadata": {
        "id": "-th8-sACnu-_"
      },
      "source": [
        "**3.** Realizar un programa que pida  tres notas de un alumno, calcule el promedio e imprima lo siguiente:\n",
        "Si el promedio es >10 mostrar \"Aprobado\".\n",
        "Si el promedio es >7 y <=10 mostrar \"Desaprobado\".\n",
        "Si el promedio es <7 mostrar \"Reprobado\"."
      ]
    },
    {
      "cell_type": "markdown",
      "metadata": {
        "id": "HDH1HZMooHac"
      },
      "source": [
        "# **Funciones** "
      ]
    },
    {
      "cell_type": "code",
      "metadata": {
        "id": "noRc6SAqoLE_",
        "outputId": "36b42db7-4a10-40e6-d9d2-ff8f386fd187",
        "colab": {
          "base_uri": "https://localhost:8080/"
        }
      },
      "source": [
        "#print('Hola') # función predefinida \n",
        "#help(print)\n",
        "\n",
        "def Nombre():\n",
        "  ''' Esta función coloca el nombre de MedrandaCode'''\n",
        "  print('Me llamo MedrandaCode') \n",
        "Nombre()\n",
        "help(Nombre)"
      ],
      "execution_count": null,
      "outputs": [
        {
          "output_type": "stream",
          "text": [
            "Me llamo MedrandaCode\n"
          ],
          "name": "stdout"
        }
      ]
    },
    {
      "cell_type": "code",
      "metadata": {
        "id": "vQBpWhWdpf7M",
        "outputId": "abdf5492-710d-4340-9840-3c29f5af1d60",
        "colab": {
          "base_uri": "https://localhost:8080/"
        }
      },
      "source": [
        "def suma(a,b,c):\n",
        "  ''' Aqui se realiza una suma de 3 argumentos'''\n",
        "  return a+b+c\n",
        "\n",
        "suma(10,5,9)"
      ],
      "execution_count": null,
      "outputs": [
        {
          "output_type": "execute_result",
          "data": {
            "text/plain": [
              "24"
            ]
          },
          "metadata": {
            "tags": []
          },
          "execution_count": 19
        }
      ]
    },
    {
      "cell_type": "code",
      "metadata": {
        "id": "Z-pxDwqJqN2e",
        "outputId": "1d76f443-9f34-48e5-fe18-2f026abcd9c4",
        "colab": {
          "base_uri": "https://localhost:8080/"
        }
      },
      "source": [
        "promedio=(suma(10,9,7)/3)\n",
        "print(promedio)\n"
      ],
      "execution_count": null,
      "outputs": [
        {
          "output_type": "stream",
          "text": [
            "8.666666666666666\n"
          ],
          "name": "stdout"
        }
      ]
    },
    {
      "cell_type": "code",
      "metadata": {
        "id": "ZTZQzomzw7n6",
        "outputId": "55cce89f-8a88-4dad-cbac-2942822ece88",
        "colab": {
          "base_uri": "https://localhost:8080/"
        }
      },
      "source": [
        "def operacion(a,b):\n",
        "  ''' Vamos a realizar las operaciones básicas con dos argumentos'''\n",
        "  suma=a+b\n",
        "  resta=a-b\n",
        "  mult=a*b\n",
        "  div=a/b\n",
        "  return suma,resta, mult, div\n",
        "\n",
        "va1,va2,va3,va4=operacion(10,2)\n",
        "va1=va1+2\n",
        "va2=va2+4\n",
        "\n",
        "va1,va2"
      ],
      "execution_count": null,
      "outputs": [
        {
          "output_type": "execute_result",
          "data": {
            "text/plain": [
              "(14, 12)"
            ]
          },
          "metadata": {
            "tags": []
          },
          "execution_count": 26
        }
      ]
    },
    {
      "cell_type": "markdown",
      "metadata": {
        "id": "8ivo4Am9x-t0"
      },
      "source": [
        "**1.** Realiza una función llamada area_rectangulo(base, altura) que devuelva el área del rectangulo a partir de una base y una altura. Calcula el área de un rectángulo de 15 de base y 10 de altura:\n",
        "\n",
        "-El área de un rectángulo se obtiene al multiplicar la base por la altura."
      ]
    },
    {
      "cell_type": "markdown",
      "metadata": {
        "id": "azcP5nFvyUqp"
      },
      "source": [
        "# Ciclos"
      ]
    },
    {
      "cell_type": "markdown",
      "metadata": {
        "id": "0wW7_m-GyY4L"
      },
      "source": [
        "**While** : Se repite mientras su condición sea Verdadera"
      ]
    },
    {
      "cell_type": "code",
      "metadata": {
        "id": "sjMWefN8yLex",
        "outputId": "17a8dfee-c186-4d96-9338-f44fddaf1016",
        "colab": {
          "base_uri": "https://localhost:8080/"
        }
      },
      "source": [
        "c=0\n",
        "while c<10:\n",
        "  c+=1 #c=c+1\n",
        "  print(c)"
      ],
      "execution_count": null,
      "outputs": [
        {
          "output_type": "stream",
          "text": [
            "1\n",
            "2\n",
            "3\n",
            "4\n",
            "5\n",
            "6\n",
            "7\n",
            "8\n",
            "9\n",
            "10\n"
          ],
          "name": "stdout"
        }
      ]
    },
    {
      "cell_type": "code",
      "metadata": {
        "id": "7K5njI27zsbh"
      },
      "source": [
        "# Mostrar los números pares del 1 al 100\n",
        "def MostrarPares():\n",
        "  c=0\n",
        "  while c<100:\n",
        "    c=c+1\n",
        "    if c % 2 == 0:\n",
        "      print(c)\n",
        "MostrarPares()"
      ],
      "execution_count": null,
      "outputs": []
    },
    {
      "cell_type": "code",
      "metadata": {
        "id": "rKK9oEks00gA"
      },
      "source": [
        "# Mostrar los números pares del 1 al 100\n",
        "def FMostrarPares():\n",
        "  c=0\n",
        "  while c<100:\n",
        "    c=c+2\n",
        "    print(c)\n",
        "FMostrarPares()\n",
        "    "
      ],
      "execution_count": null,
      "outputs": []
    },
    {
      "cell_type": "code",
      "metadata": {
        "id": "ONOcVUFp1gO2",
        "outputId": "08bce782-4e9b-4da5-e6ce-5d123fd1bd99",
        "colab": {
          "base_uri": "https://localhost:8080/"
        }
      },
      "source": [
        "c=1\n",
        "while True:#ciclo infinito\n",
        "  print('error')\n",
        "  if c+1==2:\n",
        "    break"
      ],
      "execution_count": null,
      "outputs": [
        {
          "output_type": "stream",
          "text": [
            "error\n"
          ],
          "name": "stdout"
        }
      ]
    },
    {
      "cell_type": "markdown",
      "metadata": {
        "id": "8uXKOazdnsAA"
      },
      "source": [
        "### **Ejercicios con While**"
      ]
    },
    {
      "cell_type": "markdown",
      "metadata": {
        "id": "1xBxoicCnzBn"
      },
      "source": [
        "**1.** Leer números enteros de teclado, hasta que el usuario ingrese el 0. Finalmente, mostrar la sumatoria de todos los números positivos ingresados."
      ]
    },
    {
      "cell_type": "markdown",
      "metadata": {
        "id": "ktP3dH8RoNcf"
      },
      "source": [
        "**2.** Leer un número entero positivo desde teclado e imprimir la suma de los dígitos que lo componen."
      ]
    },
    {
      "cell_type": "markdown",
      "metadata": {
        "id": "-KAAt68VokSp"
      },
      "source": [
        "**3.** Crear un programa que solicite el ingreso de números enteros positivos, hasta que el usuario ingrese el 0. Por cada número, informar cuántos dígitos pares y cuántos impares tiene.\n",
        "Al finalizar, informar la cantidad de dígitos pares y de dígitos impares leídos en total."
      ]
    }
  ]
}